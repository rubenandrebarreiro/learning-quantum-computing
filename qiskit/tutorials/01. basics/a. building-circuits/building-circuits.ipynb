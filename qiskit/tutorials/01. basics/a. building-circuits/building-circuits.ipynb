{
 "cells": [
  {
   "cell_type": "code",
   "execution_count": 1,
   "metadata": {},
   "outputs": [],
   "source": [
    "# Quantum Computing, using QisKit\n",
    "\n",
    "# QisKit Tutorials\n",
    "\n",
    "# Author:\n",
    "# - Ruben Andre Barreiro\n",
    "\n",
    "# MSc. of Computer Science and Engineering\n",
    "\n",
    "# Department of Informatics\n",
    "\n",
    "# Faculty of Sciences and Technology of\n",
    "# New University of Lisbon (FCT NOVA | FCT/UNL), Portugal"
   ]
  },
  {
   "cell_type": "code",
   "execution_count": 2,
   "metadata": {},
   "outputs": [],
   "source": [
    "# Chapter 1 - Basics\n",
    "# Lesson A) Building Circuits\n",
    "\n",
    "# The basic elements needed for your first program are:\n",
    "# - Quantum Circuit\n",
    "# - Quantum Register"
   ]
  },
  {
   "cell_type": "code",
   "execution_count": 3,
   "metadata": {},
   "outputs": [],
   "source": [
    "# Import NumPy as 'NP'\n",
    "import numpy as np\n",
    "\n",
    "# Import all libraries and tools from QisKit\n",
    "from qiskit import *"
   ]
  },
  {
   "cell_type": "code",
   "execution_count": 4,
   "metadata": {},
   "outputs": [],
   "source": [
    "# Create a Quantum Register with 3 qubits,\n",
    "# with the name of 'my_quantum_register'.\n",
    "quantum_register = QuantumRegister(3, 'my_quantum_register')\n",
    "\n",
    "# Create a Quantum Circuit acting on the 'my_quantum_register' register\n",
    "quantum_circuit = QuantumCircuit(quantum_register)"
   ]
  },
  {
   "cell_type": "code",
   "execution_count": 5,
   "metadata": {},
   "outputs": [
    {
     "data": {
      "text/plain": [
       "<qiskit.extensions.standard.cx.CnotGate at 0x231d4756ac8>"
      ]
     },
     "execution_count": 5,
     "metadata": {},
     "output_type": "execute_result"
    }
   ],
   "source": [
    "# Add a H gate on qubit 0,\n",
    "# putting this qubit in superposition\n",
    "quantum_circuit.h(quantum_register[0])\n",
    "\n",
    "# Add a CX (C_NOT) gate on control qubit 0 and target qubit 1,\n",
    "#putting the qubits in a Bell state\n",
    "quantum_circuit.cx(quantum_register[0], quantum_register[1])\n",
    "\n",
    "# Add a CX (C_NOT) gate on control qubit 0 and target qubit 2,\n",
    "# putting the qubits in a GHZ state\n",
    "quantum_circuit.cx(quantum_register[0], quantum_register[2])"
   ]
  },
  {
   "cell_type": "code",
   "execution_count": 6,
   "metadata": {},
   "outputs": [
    {
     "data": {
      "text/html": [
       "<pre style=\"word-wrap: normal;white-space: pre;line-height: 15px;\">                          ┌───┐          \n",
       "my_quantum_register_0: |0>┤ H ├──■────■──\n",
       "                          └───┘┌─┴─┐  │  \n",
       "my_quantum_register_1: |0>─────┤ X ├──┼──\n",
       "                               └───┘┌─┴─┐\n",
       "my_quantum_register_2: |0>──────────┤ X ├\n",
       "                                    └───┘</pre>"
      ],
      "text/plain": [
       "<qiskit.tools.visualization._text.TextDrawing at 0x231d47561d0>"
      ]
     },
     "execution_count": 6,
     "metadata": {},
     "output_type": "execute_result"
    }
   ],
   "source": [
    "# Draw the Quantum Circuit\n",
    "quantum_circuit.draw()"
   ]
  }
 ],
 "metadata": {
  "kernelspec": {
   "display_name": "Python 3",
   "language": "python",
   "name": "python3"
  },
  "language_info": {
   "codemirror_mode": {
    "name": "ipython",
    "version": 3
   },
   "file_extension": ".py",
   "mimetype": "text/x-python",
   "name": "python",
   "nbconvert_exporter": "python",
   "pygments_lexer": "ipython3",
   "version": "3.7.1"
  }
 },
 "nbformat": 4,
 "nbformat_minor": 2
}
