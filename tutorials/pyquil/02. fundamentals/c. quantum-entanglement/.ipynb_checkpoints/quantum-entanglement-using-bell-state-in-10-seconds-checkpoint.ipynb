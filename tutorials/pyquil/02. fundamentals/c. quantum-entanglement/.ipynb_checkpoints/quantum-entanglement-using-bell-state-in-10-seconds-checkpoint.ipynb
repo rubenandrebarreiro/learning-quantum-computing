{
 "cells": [
  {
   "cell_type": "markdown",
   "metadata": {},
   "source": [
    "# Learning Quantum Computing\n",
    "\n",
    "![../../../imgs/banner-1.jpg](../../../imgs/banner-1.jpg)\n",
    "\n",
    "## Forest SDK from Rigetti Computing/PyQuil Tutorials\n",
    "\n",
    "![../../imgs/rigetti-computing-logo-banner.png](../../imgs/rigetti-computing-logo-banner.png)\n",
    "\n",
    "### Quantum Entanglement using Bell State in 10 Seconds\n",
    "### (Simple Experiment Tutorial)\n",
    "![imgs/ruben-love-big-heart-1.png](imgs/ruben-love-big-heart-1.png)"
   ]
  },
  {
   "cell_type": "code",
   "execution_count": 1,
   "metadata": {},
   "outputs": [],
   "source": [
    "# Import all the necessary libraries of the\n",
    "# PyQuil from Rigetti Computing for\n",
    "# our first program\n",
    "from pyquil.quil import Program\n",
    "from pyquil.gates import H, CNOT\n",
    "from pyquil.api import QVMConnection"
   ]
  },
  {
   "cell_type": "code",
   "execution_count": 2,
   "metadata": {},
   "outputs": [
    {
     "name": "stdout",
     "output_type": "stream",
     "text": [
      "H 0\n",
      "CNOT 0 1\n",
      "\n"
     ]
    }
   ],
   "source": [
    "# Construct a Bell State program\n",
    "program = Program(\n",
    "            H(0),\n",
    "            CNOT(0, 1)\n",
    "          )\n",
    "\n",
    "# Print the  \n",
    "print(program)"
   ]
  },
  {
   "cell_type": "code",
   "execution_count": 3,
   "metadata": {},
   "outputs": [
    {
     "name": "stdout",
     "output_type": "stream",
     "text": [
      "(0.7071067812+0j)|00> + (0.7071067812+0j)|11>\n"
     ]
    }
   ],
   "source": [
    "# Run the program on a QVM (Quantum Virtual Machine)\n",
    "quantum_virtual_machine = QVMConnection()\n",
    "result = quantum_virtual_machine.wavefunction(program)\n",
    "\n",
    "# Print the result of our first program\n",
    "print(result)"
   ]
  }
 ],
 "metadata": {
  "kernelspec": {
   "display_name": "Python 3",
   "language": "python",
   "name": "python3"
  },
  "language_info": {
   "codemirror_mode": {
    "name": "ipython",
    "version": 3
   },
   "file_extension": ".py",
   "mimetype": "text/x-python",
   "name": "python",
   "nbconvert_exporter": "python",
   "pygments_lexer": "ipython3",
   "version": "3.6.8"
  }
 },
 "nbformat": 4,
 "nbformat_minor": 2
}
