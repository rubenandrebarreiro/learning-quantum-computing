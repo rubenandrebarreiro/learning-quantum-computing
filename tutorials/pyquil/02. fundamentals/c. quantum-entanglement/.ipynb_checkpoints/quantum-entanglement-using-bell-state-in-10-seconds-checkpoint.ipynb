{
 "cells": [
  {
   "cell_type": "markdown",
   "metadata": {},
   "source": [
    "# Learning Quantum Computing\n",
    "\n",
    "![../../../imgs/banner-1.jpg](../../../imgs/banner-1.jpg)\n",
    "\n",
    "## Forest SDK from Rigetti Computing/PyQuil Tutorials\n",
    "\n",
    "![../../imgs/rigetti-computing-logo-banner.png](../../imgs/rigetti-computing-logo-banner.png)\n",
    "\n",
    "### Quantum Entanglement using Bell State, in 10 Seconds\n",
    "### (Simple Experiment Tutorial)\n",
    "![imgs/ruben-love-big-heart-1.png](imgs/ruben-love-big-heart-1.png)"
   ]
  },
  {
   "cell_type": "markdown",
   "metadata": {},
   "source": [
    "This is a simple demonstration of how make a [**_Quantum Entanglement_**](https://en.wikipedia.org/wiki/Quantum_entanglement), using [**_Bell State_**](https://en.wikipedia.org/wiki/Bell_state), in 10 seconds, with support of [**_PyQuil_**](https://pyquil.readthedocs.io/) of [**_Forest SDK from Rigetti Computing_**](https://www.rigetti.com/forest) _framework_ and its tools!!! ⚛️ 💥 ⚙️"
   ]
  },
  {
   "cell_type": "code",
   "execution_count": 1,
   "metadata": {},
   "outputs": [],
   "source": [
    "# Learning Quantum Computing\n",
    "\n",
    "# Forest SDK from Rigetti Computing/PyQuil Tutorials\n",
    "\n",
    "# Author:\n",
    "# - Ruben Andre Barreiro\n",
    "\n",
    "# MSc. of Computer Science and Engineering\n",
    "\n",
    "# Department of Informatics\n",
    "\n",
    "# Faculty of Sciences and Technology of\n",
    "# New University of Lisbon (FCT NOVA | FCT/UNL), Portugal"
   ]
  },
  {
   "cell_type": "code",
   "execution_count": 2,
   "metadata": {},
   "outputs": [],
   "source": [
    "# Chapter 2 - Fundamentals\n",
    "# Lesson c) Quantum Entanglement - Using Bell State in 10 Seconds\n",
    "\n",
    "# The basic elements needed for your first program are:\n",
    "# - Quantum Program\n",
    "# - Quantum Virtual Machine (QVM)"
   ]
  },
  {
   "cell_type": "markdown",
   "metadata": {},
   "source": [
    "Here, it will be imported all necessary _libraries_ and _tools_ from [**_PyQuil_**](https://pyquil.readthedocs.io/) of [**_Forest SDK from Rigetti Computing_**](https://www.rigetti.com/forest):"
   ]
  },
  {
   "cell_type": "code",
   "execution_count": 3,
   "metadata": {},
   "outputs": [],
   "source": [
    "# Import all the necessary libraries of the\n",
    "# PyQuil of Forest SDK from Rigetti Computing for\n",
    "# our first Quantum Program\n",
    "from pyquil.quil import Program\n",
    "from pyquil.gates import H, CNOT\n",
    "from pyquil.api import QVMConnection"
   ]
  },
  {
   "cell_type": "markdown",
   "metadata": {},
   "source": [
    "Then, it will be created a **_Quantum Program_** (i.e., the program containing the pretended <a href=\"https://en.wikipedia.org/wiki/Quantum_system\"><b><i>Quantum System</i></b></a>), with the [**_Quantum Gates_**](https://en.wikipedia.org/wiki/Quantum_logic_gate) of <a href=\"https://en.wikipedia.org/wiki/Quantum_logic_gate#Hadamard_(H)_gate\"><b><i>Hadamard</i></b></a> and <a href=\"https://en.wikipedia.org/wiki/Controlled_NOT_gate\"><b><i>C<sub>NOT</sub></i></b></a> to making the [**_Quantum Entanglement_**](https://en.wikipedia.org/wiki/Quantum_entanglement), using the [**_Bell State_**](https://en.wikipedia.org/wiki/Bell_state):"
   ]
  },
  {
   "cell_type": "code",
   "execution_count": 4,
   "metadata": {},
   "outputs": [
    {
     "name": "stdout",
     "output_type": "stream",
     "text": [
      "H 0\n",
      "CNOT 0 1\n",
      "\n"
     ]
    }
   ],
   "source": [
    "# Construct a Bell State through a Quantum Program,\n",
    "# with the Quantum Gates of Hadamard and CNOT to \n",
    "# make the Quantum Entanglement\n",
    "quantum_program = Program(\n",
    "                    H(0),\n",
    "                    CNOT(0, 1)\n",
    "                  )\n",
    "\n",
    "# Print the Quantum System built in the Quantum Program\n",
    "print(quantum_program)"
   ]
  },
  {
   "cell_type": "markdown",
   "metadata": {},
   "source": [
    "Now, it will be printed the respectively results of the **_Quantum Program_** (i.e., the program containing the solved <a href=\"https://en.wikipedia.org/wiki/Quantum_system\"><b><i>Quantum System</i></b></a>):"
   ]
  },
  {
   "cell_type": "code",
   "execution_count": 5,
   "metadata": {},
   "outputs": [
    {
     "name": "stdout",
     "output_type": "stream",
     "text": [
      "(0.7071067812+0j)|00> + (0.7071067812+0j)|11>\n"
     ]
    }
   ],
   "source": [
    "# Run the Quantum Program on a QVM (Quantum Virtual Machine)\n",
    "quantum_virtual_machine = QVMConnection()\n",
    "result = quantum_virtual_machine.wavefunction(quantum_program)\n",
    "\n",
    "# Print the result of our first Quantum Program\n",
    "print(result)"
   ]
  },
  {
   "cell_type": "markdown",
   "metadata": {},
   "source": [
    "##### Note:\n",
    "* The _hyperlinks_ should be opened, with a **_right-click in the mouse and then, selecting the option of 'open link in new tab'_**;"
   ]
  },
  {
   "cell_type": "markdown",
   "metadata": {},
   "source": [
    "Thank you, I hope you enjoy it!!!\n",
    "\n",
    "See you again in the next lesson...\n",
    "\n",
    "Sincerely, **_Rúben André Barreiro_**."
   ]
  }
 ],
 "metadata": {
  "kernelspec": {
   "display_name": "Python 3",
   "language": "python",
   "name": "python3"
  },
  "language_info": {
   "codemirror_mode": {
    "name": "ipython",
    "version": 3
   },
   "file_extension": ".py",
   "mimetype": "text/x-python",
   "name": "python",
   "nbconvert_exporter": "python",
   "pygments_lexer": "ipython3",
   "version": "3.6.8"
  }
 },
 "nbformat": 4,
 "nbformat_minor": 2
}
