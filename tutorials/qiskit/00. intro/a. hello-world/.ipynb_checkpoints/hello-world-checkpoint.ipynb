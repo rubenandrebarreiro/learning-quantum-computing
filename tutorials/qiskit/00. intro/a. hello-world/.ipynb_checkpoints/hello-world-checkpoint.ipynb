{
 "cells": [
  {
   "cell_type": "code",
   "execution_count": 1,
   "metadata": {},
   "outputs": [],
   "source": [
    "# Quantum Computing, using QisKit\n",
    "\n",
    "# QisKit Tutorials\n",
    "\n",
    "# Author:\n",
    "# - Ruben Andre Barreiro\n",
    "\n",
    "# MSc. of Computer Science and Engineering\n",
    "\n",
    "# Department of Informatics\n",
    "\n",
    "# Faculty of Sciences and Technology of\n",
    "# New University of Lisbon (FCT NOVA | FCT/UNL), Portugal"
   ]
  },
  {
   "cell_type": "code",
   "execution_count": 2,
   "metadata": {},
   "outputs": [],
   "source": [
    "# Chapter 0 - Intro\n",
    "# Lesson A) Hello World\n",
    "\n",
    "# Hello World in Jupyter Notebook"
   ]
  },
  {
   "cell_type": "code",
   "execution_count": 3,
   "metadata": {},
   "outputs": [
    {
     "name": "stdout",
     "output_type": "stream",
     "text": [
      "Hello World!!!\n"
     ]
    }
   ],
   "source": [
    "# Print 'Hello World!!!'\n",
    "print(\"Hello World!!!\")"
   ]
  }
 ],
 "metadata": {
  "kernelspec": {
   "display_name": "Python 3",
   "language": "python",
   "name": "python3"
  },
  "language_info": {
   "codemirror_mode": {
    "name": "ipython",
    "version": 3
   },
   "file_extension": ".py",
   "mimetype": "text/x-python",
   "name": "python",
   "nbconvert_exporter": "python",
   "pygments_lexer": "ipython3",
   "version": "3.7.1"
  }
 },
 "nbformat": 4,
 "nbformat_minor": 2
}
