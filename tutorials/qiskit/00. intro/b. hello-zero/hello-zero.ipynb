{
 "cells": [
  {
   "cell_type": "code",
   "execution_count": 1,
   "metadata": {},
   "outputs": [],
   "source": [
    "# Quantum Computing, using QisKit\n",
    "\n",
    "# QisKit Tutorials\n",
    "\n",
    "# Author:\n",
    "# - Ruben Andre Barreiro\n",
    "\n",
    "# MSc. of Computer Science and Engineering\n",
    "\n",
    "# Department of Informatics\n",
    "\n",
    "# Faculty of Sciences and Technology of\n",
    "# New University of Lisbon (FCT NOVA | FCT/UNL), Portugal"
   ]
  },
  {
   "cell_type": "code",
   "execution_count": 2,
   "metadata": {},
   "outputs": [],
   "source": [
    "# Chapter 0 - Intro\n",
    "# Lesson b) Hello Zero in Quantum\n",
    "\n",
    "# The basic elements needed for your first program are:\n",
    "# - Quantum Circuit\n",
    "# - Quantum Register"
   ]
  },
  {
   "cell_type": "code",
   "execution_count": 3,
   "metadata": {},
   "outputs": [],
   "source": [
    "# Import all libraries and tools from QisKit\n",
    "from qiskit import *\n",
    "from qiskit.providers.ibmq import least_busy\n",
    "\n",
    "token = \"a36592a40938f05f148a43192ae8cf67998695d1ce7afc58827628bb5d7ff66bc6b2af65ee936fb2e031a0d87203a18d8cb7378cdbe7f2ffe1819ce628b29f16\"\n",
    "\n",
    "url = \"https://quantumexperience.ng.bluemix.net/api\"\n",
    "\n",
    "IBMQ.save_account(token, url, True)"
   ]
  },
  {
   "cell_type": "code",
   "execution_count": 4,
   "metadata": {},
   "outputs": [],
   "source": [
    "# Create a Quantum Register with 1 qubit,\n",
    "# with the name of 'my_quantum_register'\n",
    "quantum_register = QuantumRegister(1, 'my_quantum_register')\n",
    "\n",
    "# Create a Classical Register with 1 bit,\n",
    "# with the name of 'my_classical_register'\n",
    "classical_register = ClassicalRegister(1, 'my_classical_register')\n",
    "\n",
    "# Create a program for a Quantum Circuit from\n",
    "# a Quantum Register and a Classical Register\n",
    "quantum_circuit = QuantumCircuit(quantum_register, classical_register)"
   ]
  },
  {
   "cell_type": "code",
   "execution_count": 5,
   "metadata": {},
   "outputs": [
    {
     "data": {
      "text/plain": [
       "<qiskit.circuit.instructionset.InstructionSet at 0x1e7b5a2f3c8>"
      ]
     },
     "execution_count": 5,
     "metadata": {},
     "output_type": "execute_result"
    }
   ],
   "source": [
    "# We don't want to do anything to the qubit,\n",
    "# so we'll skip straight to reading it out\n",
    "quantum_circuit.measure(quantum_register, classical_register)\n",
    "\n",
    "# The output will be, something like:\n",
    "# - <qiskit.circuit.instructionset.InstructionSet at 0x215c15e42e8>\n",
    "\n",
    "# Note:\n",
    "# - This is an instruction set at a Circuit's Address,\n",
    "#   so, may vary between executions"
   ]
  },
  {
   "cell_type": "code",
   "execution_count": 6,
   "metadata": {},
   "outputs": [],
   "source": [
    "# Now we'll tell the local simulator to\n",
    "# execute this entirely trivial program\n",
    "job = execute(quantum_circuit, BasicAer.get_backend('qasm_simulator'))"
   ]
  },
  {
   "cell_type": "code",
   "execution_count": 7,
   "metadata": {},
   "outputs": [
    {
     "name": "stdout",
     "output_type": "stream",
     "text": [
      "{'0': 1024}\n"
     ]
    }
   ],
   "source": [
    "# And then print out the result\n",
    "\n",
    "# Since qubits are initialized as 0,\n",
    "# and we did nothing to our qubit before readout,\n",
    "# we'll just get the result 0 many times\n",
    "print(job.result().get_counts())"
   ]
  },
  {
   "cell_type": "code",
   "execution_count": 8,
   "metadata": {},
   "outputs": [
    {
     "name": "stdout",
     "output_type": "stream",
     "text": [
      "We'll use the least busy device:  ibmqx4\n",
      "{'0': 995, '1': 29}\n"
     ]
    }
   ],
   "source": [
    "# Load accounts from IBM Q Experience\n",
    "IBMQ.load_accounts()\n",
    "\n",
    "# Use as backend the least busy IBM Q' Experience's Provider\n",
    "backend = least_busy(IBMQ.backends(simulator = False))\n",
    "\n",
    "# Print the name of the backend representing\n",
    "# the least busy IBM Q Experience's Provider\n",
    "print(\"We'll use the least busy device: \", backend.name())\n",
    "\n",
    "# Now we'll tell the simulator of\n",
    "# the least busy IBM Q Experience's Provider to\n",
    "# execute this entirely trivial program\n",
    "\n",
    "# Note that this set of instructions\n",
    "# may take a few minutes to finish\n",
    "job = execute(quantum_circuit, backend)\n",
    "\n",
    "# And then print out the result again\n",
    "print(job.result().get_counts())"
   ]
  }
 ],
 "metadata": {
  "kernelspec": {
   "display_name": "Python 3",
   "language": "python",
   "name": "python3"
  },
  "language_info": {
   "codemirror_mode": {
    "name": "ipython",
    "version": 3
   },
   "file_extension": ".py",
   "mimetype": "text/x-python",
   "name": "python",
   "nbconvert_exporter": "python",
   "pygments_lexer": "ipython3",
   "version": "3.7.1"
  }
 },
 "nbformat": 4,
 "nbformat_minor": 2
}
