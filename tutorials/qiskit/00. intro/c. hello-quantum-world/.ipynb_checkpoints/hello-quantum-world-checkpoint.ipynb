{
 "cells": [
  {
   "cell_type": "code",
   "execution_count": 1,
   "metadata": {},
   "outputs": [],
   "source": [
    "# Quantum Computing, using QisKit\n",
    "\n",
    "# QisKit Tutorials\n",
    "\n",
    "# Author:\n",
    "# - Ruben Andre Barreiro\n",
    "\n",
    "# MSc. of Computer Science and Engineering\n",
    "\n",
    "# Department of Informatics\n",
    "\n",
    "# Faculty of Sciences and Technology of\n",
    "# New University of Lisbon (FCT NOVA | FCT/UNL), Portugal"
   ]
  },
  {
   "cell_type": "code",
   "execution_count": 2,
   "metadata": {},
   "outputs": [],
   "source": [
    "# Chapter 0 - Intro\n",
    "# Lesson c) Hello Quantum World\n",
    "\n",
    "# The basic elements needed for your first program are:\n",
    "# - Quantum Circuit\n",
    "# - Quantum Register"
   ]
  },
  {
   "cell_type": "code",
   "execution_count": 3,
   "metadata": {},
   "outputs": [],
   "source": [
    "# Import all libraries and tools from QisKit\n",
    "from qiskit import *\n",
    "from qiskit.providers.ibmq import least_busy\n",
    "from qiskit.tools.visualization import iplot_histogram\n",
    "\n",
    "token = \"a36592a40938f05f148a43192ae8cf67998695d1ce7afc58827628bb5d7ff66bc6b2af65ee936fb2e031a0d87203a18d8cb7378cdbe7f2ffe1819ce628b29f16\"\n",
    "\n",
    "url = \"https://quantumexperience.ng.bluemix.net/api\"\n",
    "\n",
    "IBMQ.save_account(token, url, True)"
   ]
  },
  {
   "cell_type": "code",
   "execution_count": 4,
   "metadata": {},
   "outputs": [],
   "source": [
    "# Load accounts from IBM Q Experience\n",
    "IBMQ.load_accounts()"
   ]
  },
  {
   "cell_type": "code",
   "execution_count": 5,
   "metadata": {},
   "outputs": [
    {
     "data": {
      "text/plain": [
       "[<IBMQBackend('ibmqx4') from IBMQ()>,\n",
       " <IBMQBackend('ibmqx2') from IBMQ()>,\n",
       " <IBMQBackend('ibmq_16_melbourne') from IBMQ()>,\n",
       " <IBMQBackend('ibmq_qasm_simulator') from IBMQ()>]"
      ]
     },
     "execution_count": 5,
     "metadata": {},
     "output_type": "execute_result"
    }
   ],
   "source": [
    "# Show all the backends from\n",
    "# the previously account loaded from IBM Q Experience\n",
    "IBMQ.backends()"
   ]
  },
  {
   "cell_type": "code",
   "execution_count": 6,
   "metadata": {},
   "outputs": [
    {
     "name": "stdout",
     "output_type": "stream",
     "text": [
      "We'll use the least busy device:  ibmqx4\n"
     ]
    }
   ],
   "source": [
    "# Use as backend the least busy IBM Q' Experience's Provider\n",
    "backend = least_busy(IBMQ.backends(simulator = False))\n",
    "\n",
    "# Print the name of the backend representing\n",
    "# the least busy IBM Q Experience's Provider\n",
    "print(\"We'll use the least busy device: \", backend.name())"
   ]
  },
  {
   "cell_type": "code",
   "execution_count": 7,
   "metadata": {},
   "outputs": [],
   "source": [
    "# Create a Quantum Register with 2 qubits,\n",
    "# with the name of 'my_quantum_register'\n",
    "quantum_register = QuantumRegister(2, 'my_quantum_register')\n",
    "\n",
    "# Create a Classical Register with 2 bits,\n",
    "# with the name of 'my_classical_register'\n",
    "classical_register = ClassicalRegister(2, 'my_classical_register')\n",
    "\n",
    "# Create a program for a Quantum Circuit from\n",
    "# a Quantum Register and a Classical Register\n",
    "quantum_circuit = QuantumCircuit(quantum_register, classical_register)\n",
    "\n",
    "quantum_circuit.h(quantum_register[0])\n",
    "quantum_circuit.cx(quantum_register[0], quantum_register[1])\n",
    "\n",
    "# Reading and measuring the\n",
    "# Quantum Register to a Classical Register in\n",
    "# a Quantum Circuit\n",
    "quantum_circuit.measure(quantum_register, classical_register)\n",
    "\n",
    "# Now we'll tell the simulator of\n",
    "# the least busy IBM Q Experience's Provider to\n",
    "# execute this entirely trivial program\n",
    "\n",
    "# Note that this set of instructions\n",
    "# may take a few minutes to finish\n",
    "job = execute(quantum_circuit, backend, shots = 1024, max_credits = 3)"
   ]
  },
  {
   "cell_type": "code",
   "execution_count": 8,
   "metadata": {},
   "outputs": [
    {
     "data": {
      "text/html": [
       "\n",
       "    <p>\n",
       "        <div id=\"histogram_1557855213995226\"></div>\n",
       "    </p>\n",
       "    \n",
       "    <script>\n",
       "        requirejs.config({\n",
       "            paths: {\n",
       "                qVisualization: \"https://qvisualization.mybluemix.net/q-visualizations\"\n",
       "            }\n",
       "        });\n",
       "\n",
       "        require([\"qVisualization\"], function(qVisualizations) {\n",
       "            qVisualizations.plotState(\"histogram_1557855213995226\",\n",
       "                                      \"histogram\",\n",
       "                                      [{'data': {'00': 0.4668, '01': 0.21191, '10': 0.03613, '11': 0.28516}}],\n",
       "                                      {'number_to_keep': 0, 'sort': 'asc', 'show_legend': 0, 'width': 7, 'height': 5});\n",
       "        });\n",
       "    </script>\n",
       "    "
      ],
      "text/plain": [
       "<IPython.core.display.HTML object>"
      ]
     },
     "metadata": {},
     "output_type": "display_data"
    },
    {
     "name": "stdout",
     "output_type": "stream",
     "text": [
      "Hello Quantum World!!!\n",
      "I've just made a Quantum Entanglement!!!\n"
     ]
    }
   ],
   "source": [
    "# Calculate/Compute the counts of the execution of the program\n",
    "counts = job.result().get_counts(quantum_circuit)\n",
    "\n",
    "# Show the Plot Histogram of\n",
    "# the counts of the execution of the program\n",
    "iplot_histogram(counts)\n",
    "\n",
    "# And then print some random staff\n",
    "print(\"Hello Quantum World!!!\")\n",
    "print(\"I've just made a Quantum Entanglement!!!\")"
   ]
  },
  {
   "cell_type": "code",
   "execution_count": 9,
   "metadata": {},
   "outputs": [
    {
     "data": {
      "text/html": [
       "<pre style=\"word-wrap: normal;white-space: pre;line-height: 15px;\">                           ┌───┐        ┌─┐\n",
       " my_quantum_register_0: |0>┤ H ├──■─────┤M├\n",
       "                           └───┘┌─┴─┐┌─┐└╥┘\n",
       " my_quantum_register_1: |0>─────┤ X ├┤M├─╫─\n",
       "                                └───┘└╥┘ ║ \n",
       "my_classical_register_0: 0 ═══════════╬══╩═\n",
       "                                      ║    \n",
       "my_classical_register_1: 0 ═══════════╩════\n",
       "                                           </pre>"
      ],
      "text/plain": [
       "<qiskit.tools.visualization._text.TextDrawing at 0x2175fc0b748>"
      ]
     },
     "execution_count": 9,
     "metadata": {},
     "output_type": "execute_result"
    }
   ],
   "source": [
    "# Draw the Quantum Circuit\n",
    "quantum_circuit.draw()"
   ]
  }
 ],
 "metadata": {
  "kernelspec": {
   "display_name": "Python 3",
   "language": "python",
   "name": "python3"
  },
  "language_info": {
   "codemirror_mode": {
    "name": "ipython",
    "version": 3
   },
   "file_extension": ".py",
   "mimetype": "text/x-python",
   "name": "python",
   "nbconvert_exporter": "python",
   "pygments_lexer": "ipython3",
   "version": "3.7.1"
  }
 },
 "nbformat": 4,
 "nbformat_minor": 2
}
