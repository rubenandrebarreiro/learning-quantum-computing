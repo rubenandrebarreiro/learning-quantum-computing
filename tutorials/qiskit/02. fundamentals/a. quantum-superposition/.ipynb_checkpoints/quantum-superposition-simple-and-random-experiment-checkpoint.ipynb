{
 "cells": [
  {
   "cell_type": "markdown",
   "metadata": {},
   "source": [
    "# Learning Quantum Computing\n",
    "\n",
    "![../../../imgs/banner-1.jpg](../../../imgs/banner-1.jpg)\n",
    "\n",
    "## IBM Q Experience/Qiskit Tutorials\n",
    "\n",
    "![../../imgs/qiskit-logo-banner.png](../../imgs/qiskit-logo-banner.png)\n",
    "\n",
    "### Quantum Superposition Experiment (Simple and Random Experiment Tutorial)\n",
    "![imgs/ruben-confused-1.png](imgs/ruben-confused-1.png)"
   ]
  },
  {
   "cell_type": "markdown",
   "metadata": {},
   "source": [
    "Here, it will be shown a simple demonstration of a simple and completelly random [**_Quantum Superposition_**](https://en.wikipedia.org/wiki/Quantum_superposition) principle, using the [**_IBM Q Experience_**](https://www.research.ibm.com/ibm-q/technology/experience/) and the [**_Qiskit_**](https://qiskit.org/) _framework_ and its tools!!! ⚛️ 💥 ⚙️"
   ]
  },
  {
   "cell_type": "code",
   "execution_count": 1,
   "metadata": {},
   "outputs": [],
   "source": [
    "# Learning Quantum Computing\n",
    "\n",
    "# IBM Q Experience/Qiskit Tutorials\n",
    "\n",
    "# Author:\n",
    "# - Ruben Andre Barreiro\n",
    "\n",
    "# MSc. of Computer Science and Engineering\n",
    "\n",
    "# Department of Informatics\n",
    "\n",
    "# Faculty of Sciences and Technology of\n",
    "# New University of Lisbon (FCT NOVA | FCT/UNL), Portugal"
   ]
  },
  {
   "cell_type": "code",
   "execution_count": 2,
   "metadata": {},
   "outputs": [],
   "source": [
    "# Chapter 2 - Fundamentals\n",
    "# Lesson a) Quantum Superposition - Simple and Random Experiment\n",
    "\n",
    "# The basic elements needed for your first program are:\n",
    "# - Quantum Circuit\n",
    "# - Quantum Register"
   ]
  },
  {
   "cell_type": "markdown",
   "metadata": {},
   "source": [
    "Here, it will be imported all necessary _libraries_ and _tools_ from [**_Qiskit_**](https://qiskit.org/), as also, update the account of the current user in the [**_IBM Q Experience_**](https://www.research.ibm.com/ibm-q/technology/experience/):"
   ]
  },
  {
   "cell_type": "code",
   "execution_count": 3,
   "metadata": {},
   "outputs": [
    {
     "name": "stdout",
     "output_type": "stream",
     "text": [
      "Found 1 credentials.\n",
      "No credentials available for updating could be found. No action will be performed.\n",
      "Warnings:\n",
      "The stored account with url \"https://auth.quantum-computing.ibm.com/api\" is already an IBM Q Experience v2 account.\n"
     ]
    }
   ],
   "source": [
    "# Import all libraries and tools from Qiskit\n",
    "from qiskit import *\n",
    "from qiskit.providers.ibmq import least_busy\n",
    "from qiskit.tools.visualization import iplot_histogram\n",
    "from qiskit.tools.visualization import plot_histogram\n",
    "\n",
    "# Import the IBM Q Experience\n",
    "from qiskit import IBMQ\n",
    "\n",
    "# Update the account of the current user in the IBM Q Experience\n",
    "IBMQ.update_account()"
   ]
  },
  {
   "cell_type": "markdown",
   "metadata": {},
   "source": [
    "Then, it will be got and/or loaded a Provider of [**_Quantum Computers_**](https://en.wikipedia.org/wiki/Quantum_computing), to execute this program and simulation and list the currently available **_Backends_** (i.e., the currently available [**_Quantum Computers_**](https://en.wikipedia.org/wiki/Quantum_computing)), to execute this program and simulation:"
   ]
  },
  {
   "cell_type": "code",
   "execution_count": 4,
   "metadata": {},
   "outputs": [
    {
     "data": {
      "text/plain": [
       "[<IBMQSimulator('ibmq_qasm_simulator') from IBMQ(hub='ibm-q', group='open', project='main')>,\n",
       " <IBMQBackend('ibmqx4') from IBMQ(hub='ibm-q', group='open', project='main')>,\n",
       " <IBMQBackend('ibmqx2') from IBMQ(hub='ibm-q', group='open', project='main')>,\n",
       " <IBMQBackend('ibmq_16_melbourne') from IBMQ(hub='ibm-q', group='open', project='main')>,\n",
       " <IBMQBackend('ibmq_ourense') from IBMQ(hub='ibm-q', group='open', project='main')>]"
      ]
     },
     "execution_count": 4,
     "metadata": {},
     "output_type": "execute_result"
    }
   ],
   "source": [
    "# Get a provider of Quantum Computers,\n",
    "# to execute this program and simulation (only used for the first time)\n",
    "# - Note: Uncomment if you need\n",
    "#my_provider = IBMQ.get_provider()\n",
    "\n",
    "# Load the previously defined provider of Quantum Computers,\n",
    "# to execute this program and simulation\n",
    "my_provider = IBMQ.load_account()\n",
    "\n",
    "# List the currently available Backends (i.e., the currently available Quantum Computers),\n",
    "# to execute this program and simulation\n",
    "my_provider.backends()"
   ]
  },
  {
   "cell_type": "code",
   "execution_count": 5,
   "metadata": {},
   "outputs": [],
   "source": [
    "# It will be used the Backend 'ibmq_qasm_simulator'\n",
    "backend = my_provider.get_backend('ibmq_qasm_simulator')"
   ]
  },
  {
   "cell_type": "markdown",
   "metadata": {},
   "source": [
    "Now, it will be selected and used the least busy [**_Quantum Computer_**](https://en.wikipedia.org/wiki/Quantum_computing) from the [**_IBM Q Experience_**](https://www.research.ibm.com/ibm-q/technology/experience/)'s Provider as **_Backend_**... "
   ]
  },
  {
   "cell_type": "code",
   "execution_count": 6,
   "metadata": {},
   "outputs": [
    {
     "name": "stdout",
     "output_type": "stream",
     "text": [
      "We'll use the least busy or default device:  ibmq_qasm_simulator\n"
     ]
    }
   ],
   "source": [
    "# Use as backend the least busy Backend (Quantum Computer) from\n",
    "# IBM Q' Experience's Provider\n",
    "# - Note: Uncomment if you need\n",
    "#backend = least_busy(IBMQ.backends(simulator = False))\n",
    "\n",
    "# Print the name of the least busy Backend from\n",
    "# the currently using IBM Q Experience's Provider\n",
    "print(\"We'll use the least busy or default device: \", backend.name())"
   ]
  },
  {
   "cell_type": "markdown",
   "metadata": {},
   "source": [
    "### Starting the Experiment...\n",
    "\n",
    "At this point, we're already ready to start to build our [**_Quantum Circuit_**](https://en.wikipedia.org/wiki/Quantum_circuit) of the [**_Quantum System/State_**](https://en.wikipedia.org/wiki/Quantum_system) to be possible start the _experiment_ and interpret the _results_ from it..."
   ]
  },
  {
   "cell_type": "markdown",
   "metadata": {},
   "source": [
    "#### Creating the Quantum Circuit\n",
    "\n",
    "Here, it will be built our [**_Quantum Circuit_**](https://en.wikipedia.org/wiki/Quantum_circuit) of the [**_Quantum System/State_**](https://en.wikipedia.org/wiki/Quantum_system). This [**_Quantum Circuit_**](https://en.wikipedia.org/wiki/Quantum_circuit) it's where will be the [**_bit (Classical Bit)_**](https://en.wikipedia.org/wiki/Bit) in a [**_Quantum Superposition_**](https://en.wikipedia.org/wiki/Quantum_superposition) state resulting in [**_qubit (Quantum Bit)_**](https://en.wikipedia.org/wiki/Qubit), before be <a href='https://en.wikipedia.org/wiki/Observer_effect_(physics)'><b><i>Observed</i></b></a> and [**_Measured_**](https://en.wikipedia.org/wiki/Measurement_in_quantum_mechanics)... ⚛️ ❓"
   ]
  },
  {
   "cell_type": "code",
   "execution_count": 7,
   "metadata": {},
   "outputs": [],
   "source": [
    "# Create a Quantum Register with 1 qubit,\n",
    "# with the name of 'qubit'\n",
    "qubit = QuantumRegister(1, 'qubit')\n",
    "\n",
    "# Create a Classical Register with 1 bit,\n",
    "# with the name of 'bit'\n",
    "bit = ClassicalRegister(1, 'bit')\n",
    "\n",
    "# Create a program for a Quantum Circuit from\n",
    "# a Quantum Register and a Classical Register\n",
    "quantum_system_circuit = QuantumCircuit(qubit, bit)"
   ]
  },
  {
   "cell_type": "markdown",
   "metadata": {},
   "source": [
    "Now, the [**_Quantum Circuit_**](https://en.wikipedia.org/wiki/Quantum_circuit), containing the [**_qubit (Quantum Bit)_**](https://en.wikipedia.org/wiki/Qubit) will be in a [**_Quantum Superposition_**](https://en.wikipedia.org/wiki/Quantum_superposition)!!! ⚛️ ↕️"
   ]
  },
  {
   "cell_type": "code",
   "execution_count": 8,
   "metadata": {
    "scrolled": true
   },
   "outputs": [
    {
     "data": {
      "text/plain": [
       "<qiskit.circuit.instructionset.InstructionSet at 0x15afea7bfd0>"
      ]
     },
     "execution_count": 8,
     "metadata": {},
     "output_type": "execute_result"
    }
   ],
   "source": [
    "# Quantum Circuit in Superposition, containing the qubit (Quantum Bit)\n",
    "quantum_system_circuit = QuantumCircuit(qubit, bit)\n",
    "quantum_system_circuit.h(qubit)"
   ]
  },
  {
   "cell_type": "markdown",
   "metadata": {},
   "source": [
    "And then, it will be made the <a href='https://en.wikipedia.org/wiki/Observer_effect_(physics)'><b><i>Observer's Effect</i></b></a> and the respectively [**_Measurement_**](https://en.wikipedia.org/wiki/Measurement_in_quantum_mechanics)... 🧐 🔎"
   ]
  },
  {
   "cell_type": "code",
   "execution_count": 9,
   "metadata": {},
   "outputs": [
    {
     "data": {
      "image/png": "[encoded data removed]",
      "text/plain": [
       "<Figure size 276.92x144.48 with 1 Axes>"
      ]
     },
     "execution_count": 9,
     "metadata": {},
     "output_type": "execute_result"
    }
   ],
   "source": [
    "quantum_system_circuit.measure(qubit[0], bit[0])\n",
    "\n",
    "quantum_system_circuit.draw()"
   ]
  },
  {
   "cell_type": "markdown",
   "metadata": {},
   "source": [
    "##### Caption/Notes:\n",
    "* **qubit**:\n",
    "\n",
    "> The [**_Quantum System/State_**](https://en.wikipedia.org/wiki/Quantum_system) of the it's where will be the [**_bit (Classical Bit)_**](https://en.wikipedia.org/wiki/Bit) in a [**_Quantum Superposition_**](https://en.wikipedia.org/wiki/Quantum_superposition) state resulting in [**_qubit (Quantum Bit)_**](https://en.wikipedia.org/wiki/Qubit) in the [**_Quantum System/State_**](https://en.wikipedia.org/wiki/Quantum_system), while the two possibilities are occurring simultaneously (i.e., the [**_bit (Classical Bit)_**](https://en.wikipedia.org/wiki/Bit) being **_0 (i.e., zero)_** and **_1 (i.e., one)_** at the same time);\n",
    "\n",
    "* ***bit***:\n",
    "\n",
    "> The **_Classical State_** of the [**_bit (Classical Bit)_**](https://en.wikipedia.org/wiki/Bit), after performing the [**_Observer's Effect_**](https://en.wikipedia.org/wiki/Observer_effect_(physics)) and the respectively [**_Measurement_**](https://en.wikipedia.org/wiki/Measurement_in_quantum_mechanics), making the [**_Quantum System/State_**](https://en.wikipedia.org/wiki/Quantum_system) collapses into a _definitive_ and _irreversible_ state;"
   ]
  },
  {
   "cell_type": "markdown",
   "metadata": {},
   "source": [
    "At last, the job associated to this experiment will be executed in a [**_Quantum Computer_**](https://en.wikipedia.org/wiki/Quantum_computing) will be executed and its result be counted _1000_ times, in order to obtain a **_distribution of probabilities_** for the experiment..."
   ]
  },
  {
   "cell_type": "code",
   "execution_count": 10,
   "metadata": {},
   "outputs": [],
   "source": [
    "job = execute(quantum_system_circuit, backend, shots = 1000)\n",
    "result = job.result()"
   ]
  },
  {
   "cell_type": "markdown",
   "metadata": {},
   "source": [
    "#### Interpreting the results from the experiment\n",
    "Now, since the experiment it's finally over **_we can interpret its results_**, **_analysing the distribution of probabilites for the experiment and its respectively histogram's plot_**..."
   ]
  },
  {
   "cell_type": "code",
   "execution_count": 11,
   "metadata": {},
   "outputs": [
    {
     "name": "stdout",
     "output_type": "stream",
     "text": [
      "Data Results from the Quantum Superposition's Experiment:\n",
      "- bit with value 0 (off/false): 510;\n",
      "- bit with value 1 (on/true): 490;\n"
     ]
    },
    {
     "data": {
      "image/png": "[encoded data removed]",
      "text/plain": [
       "<Figure size 504x360 with 1 Axes>"
      ]
     },
     "execution_count": 11,
     "metadata": {},
     "output_type": "execute_result"
    }
   ],
   "source": [
    "quantum_superposition_experiment_data = result.get_counts(quantum_system_circuit)\n",
    "\n",
    "print('Data Results from the Quantum Superposition\\'s Experiment:')\n",
    "print('- bit with value 0 (off/false): ' + str(quantum_superposition_experiment_data['0']) + ';')\n",
    "print('- bit with value 1 (on/true): ' + str(quantum_superposition_experiment_data['1']) + ';')\n",
    "\n",
    "quantum_superposition_experiment_legend = ['Possible States of the Classical Bit,\\nafter observe its stare and measure it,\\nmaking the Quantum System/State\\ncollapses into a definitive and irrevesible state\\n(Value 1/On/True and Value 0/Off/False)']\n",
    "quantum_superposition_experiment_title = 'The Schröndiger\\'s Cat Experiment - Histogram'\n",
    "quantum_superposition_experiment = plot_histogram({'bit with value 0 (off/false)' : quantum_superposition_experiment_data['0'], \n",
    "                                                   'bit with value 1 (on/true)' : quantum_superposition_experiment_data['1']}, \n",
    "                                                    legend=quantum_superposition_experiment_legend, color='Purple', \n",
    "                                                    title=quantum_superposition_experiment_title)\n",
    "\n",
    "axis = quantum_superposition_experiment.axes[0]\n",
    "axis.set_ylim(0, 1)\n",
    "\n",
    "quantum_superposition_experiment.savefig('imgs/quantum-superposition-experiment-simple-and-random.png', bbox_inches='tight')\n",
    "\n",
    "quantum_superposition_experiment"
   ]
  },
  {
   "cell_type": "markdown",
   "metadata": {},
   "source": [
    "Congratulations!!! You've just learned how to make a [**_Quantum Superposition_**](https://en.wikipedia.org/wiki/Quantum_superposition)!!! ⚛️ 🎉\n",
    "\n",
    "![imgs/ruben-physics-genius-1.png](imgs/ruben-physics-genius-1.png)"
   ]
  },
  {
   "cell_type": "markdown",
   "metadata": {},
   "source": [
    "##### Note:\n",
    "* The _hyperlinks_ should be opened, with a **_right-click in the mouse and then, selecting the option of 'open link in new tab'_**;"
   ]
  },
  {
   "cell_type": "markdown",
   "metadata": {},
   "source": [
    "Thank you, I hope you enjoy it!!!\n",
    "\n",
    "See you again in the next lesson...\n",
    "\n",
    "Sincerely, **_Rúben André Barreiro_**."
   ]
  }
 ],
 "metadata": {
  "kernelspec": {
   "display_name": "Python 3",
   "language": "python",
   "name": "python3"
  },
  "language_info": {
   "codemirror_mode": {
    "name": "ipython",
    "version": 3
   },
   "file_extension": ".py",
   "mimetype": "text/x-python",
   "name": "python",
   "nbconvert_exporter": "python",
   "pygments_lexer": "ipython3",
   "version": "3.7.1"
  }
 },
 "nbformat": 4,
 "nbformat_minor": 2
}
