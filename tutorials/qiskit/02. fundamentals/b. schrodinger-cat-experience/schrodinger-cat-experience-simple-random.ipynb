{
 "cells": [
  {
   "cell_type": "markdown",
   "metadata": {},
   "source": [
    "# Learning Quantum Computing\n",
    "\n",
    "![../../../imgs/banner-1.jpg](../../../imgs/banner-1.jpg)\n",
    "\n",
    "## IBM Q Experience/Qiskit Tutorials\n",
    "\n",
    "![../../imgs/qiskit-logo-banner.png](../../imgs/qiskit-logo-banner.png)\n",
    "\n",
    "### Schrödinger's Cat Experiment (Simple Experiment Tutorial)\n",
    "![imgs/ruben-cat-amazed-exclamation-points-1.png](imgs/ruben-cat-amazed-exclamation-points-1.png)"
   ]
  },
  {
   "cell_type": "markdown",
   "metadata": {},
   "source": [
    "Here, it will be shown a simple demonstration of the [**_Schröndiger's Cat Experiment_**](https://en.wikipedia.org/wiki/Schr%C3%B6dinger%27s_cat), using the [**_IBM Q Experience_**](https://www.research.ibm.com/ibm-q/technology/experience/) and the [**_Qiskit_**](https://qiskit.org/) _framework_ and its tools!!! ⚛️ 💥 ⚙️"
   ]
  },
  {
   "cell_type": "code",
   "execution_count": 1,
   "metadata": {},
   "outputs": [],
   "source": [
    "# Learning Quantum Computing\n",
    "\n",
    "# IBM Q Experience/Qiskit Tutorials\n",
    "\n",
    "# Author:\n",
    "# - Ruben Andre Barreiro\n",
    "\n",
    "# MSc. of Computer Science and Engineering\n",
    "\n",
    "# Department of Informatics\n",
    "\n",
    "# Faculty of Sciences and Technology of\n",
    "# New University of Lisbon (FCT NOVA | FCT/UNL), Portugal"
   ]
  },
  {
   "cell_type": "code",
   "execution_count": 2,
   "metadata": {},
   "outputs": [],
   "source": [
    "# Chapter 2 - Fundamentals\n",
    "# Lesson b) Schrödinger's Cat Experience - Simple\n",
    "\n",
    "# The basic elements needed for your first program are:\n",
    "# - Quantum Circuit\n",
    "# - Quantum Register"
   ]
  },
  {
   "cell_type": "markdown",
   "metadata": {},
   "source": [
    "Here, it will be imported all necessary _libraries_ and _tools_ from [**_Qiskit_**](https://qiskit.org/), as also, update the account of the current user in the [**_IBM Q Experience_**](https://www.research.ibm.com/ibm-q/technology/experience/):"
   ]
  },
  {
   "cell_type": "code",
   "execution_count": 3,
   "metadata": {},
   "outputs": [
    {
     "name": "stdout",
     "output_type": "stream",
     "text": [
      "Found 1 credentials.\n",
      "No credentials available for updating could be found. No action will be performed.\n",
      "Warnings:\n",
      "The stored account with url \"https://auth.quantum-computing.ibm.com/api\" is already an IBM Q Experience v2 account.\n"
     ]
    }
   ],
   "source": [
    "# Import all libraries and tools from Qiskit\n",
    "from qiskit import *\n",
    "from qiskit.providers.ibmq import least_busy\n",
    "from qiskit.tools.visualization import iplot_histogram\n",
    "from qiskit.tools.visualization import plot_histogram\n",
    "\n",
    "# Import the IBM Q Experience\n",
    "from qiskit import IBMQ\n",
    "\n",
    "# Update the account of the current user in the IBM Q Experience\n",
    "IBMQ.update_account()"
   ]
  },
  {
   "cell_type": "markdown",
   "metadata": {},
   "source": [
    "Then, it will be got and/or loaded a Provider of [**_Quantum Computers_**](https://en.wikipedia.org/wiki/Quantum_computing), to execute this program and simulation and list the currently available **_Backends_** (i.e., the currently available [**_Quantum Computers_**](https://en.wikipedia.org/wiki/Quantum_computing)), to execute this program and simulation:"
   ]
  },
  {
   "cell_type": "code",
   "execution_count": 4,
   "metadata": {},
   "outputs": [],
   "source": [
    "# Get a provider of Quantum Computers,\n",
    "# to execute this program and simulation (only used for the first time)\n",
    "# - Note: Uncomment if you need\n",
    "#my_provider = IBMQ.get_provider()\n",
    "\n",
    "# Load the previously defined provider of Quantum Computers,\n",
    "# to execute this program and simulation\n",
    "my_provider = IBMQ.load_account()\n",
    "\n",
    "# List the currently available Backends (i.e., the currently available Quantum Computers),\n",
    "# to execute this program and simulation\n",
    "my_provider.backends()\n",
    "backend = my_provider.get_backend('ibmq_qasm_simulator')"
   ]
  },
  {
   "cell_type": "markdown",
   "metadata": {},
   "source": [
    "Now, it will be selected and used the least busy [**_Quantum Computer_**](https://en.wikipedia.org/wiki/Quantum_computing) from the [**_IBM Q Experience_**](https://www.research.ibm.com/ibm-q/technology/experience/)'s Provider as **_Backend_**... "
   ]
  },
  {
   "cell_type": "code",
   "execution_count": 5,
   "metadata": {},
   "outputs": [
    {
     "name": "stdout",
     "output_type": "stream",
     "text": [
      "We'll use the least busy or default device:  ibmq_qasm_simulator\n"
     ]
    }
   ],
   "source": [
    "# Use as backend the least busy Backend (Quantum Computer) from\n",
    "# IBM Q' Experience's Provider\n",
    "# - Note: Uncomment if you need\n",
    "#backend = least_busy(IBMQ.backends(simulator = False))\n",
    "\n",
    "# Print the name of the least busy Backend from\n",
    "# the currently using IBM Q Experience's Provider\n",
    "print(\"We'll use the least busy or default device: \", backend.name())"
   ]
  },
  {
   "cell_type": "markdown",
   "metadata": {},
   "source": [
    "### Starting the Experiment...\n",
    "\n",
    "At this point, we're already ready to start to build our [**_Quantum Circuit_**](https://en.wikipedia.org/wiki/Quantum_circuit) of the [**_Quantum System/State_**](https://en.wikipedia.org/wiki/Quantum_system) from the [**_Schröndiger's Cat Experiment_**](https://en.wikipedia.org/wiki/Schr%C3%B6dinger%27s_cat) to be possible start the _experiment_ and interpret the _results_ from it..."
   ]
  },
  {
   "cell_type": "markdown",
   "metadata": {},
   "source": [
    "#### Creating the Quantum Circuit\n",
    "\n",
    "Here, it will be built our [**_Quantum Circuit_**](https://en.wikipedia.org/wiki/Quantum_circuit) of the [**_Quantum System/State_**](https://en.wikipedia.org/wiki/Quantum_system) from the [**_Schröndiger's Cat Experiment_**](https://en.wikipedia.org/wiki/Schr%C3%B6dinger%27s_cat). This [**_Quantum Circuit_**](https://en.wikipedia.org/wiki/Quantum_circuit) can be viewed as the **_Black/Mysterious Box_**, where the cat will be locked inside and also, where it will occur the most of the experiment... 📦 ❓"
   ]
  },
  {
   "cell_type": "code",
   "execution_count": 6,
   "metadata": {},
   "outputs": [],
   "source": [
    "# Create a Quantum Register with 1 qubit,\n",
    "# with the name of 'quantum_cat_state'\n",
    "quantum_cat_state = QuantumRegister(1, 'cat_q')\n",
    "\n",
    "# Create a Classical Register with 1 bit,\n",
    "# with the name of 'classical_cat_state'\n",
    "classical_cat_state = ClassicalRegister(1, 'cat_c')\n",
    "\n",
    "# Create a program for a Quantum Circuit from\n",
    "# a Quantum Register and a Classical Register\n",
    "black_mysterious_box = QuantumCircuit(quantum_cat_state, classical_cat_state)"
   ]
  },
  {
   "cell_type": "markdown",
   "metadata": {},
   "source": [
    "Now, the [**_Quantum Circuit_**](https://en.wikipedia.org/wiki/Quantum_circuit) representing the **_Black/Mysterious Box_**, where the cat will be locked inside, will be in a [**_Quantum Superposition_**](https://en.wikipedia.org/wiki/Quantum_superposition)!!! 📦 ⚛️"
   ]
  },
  {
   "cell_type": "code",
   "execution_count": 7,
   "metadata": {
    "scrolled": true
   },
   "outputs": [
    {
     "data": {
      "text/plain": [
       "<qiskit.circuit.instructionset.InstructionSet at 0x13e7ab31eb8>"
      ]
     },
     "execution_count": 7,
     "metadata": {},
     "output_type": "execute_result"
    }
   ],
   "source": [
    "# Quantum Circuit in Superposition, i.e., the Black/Mysterious Box \n",
    "black_mysterious_box = QuantumCircuit(quantum_cat_state, classical_cat_state)\n",
    "black_mysterious_box.h(quantum_cat_state)"
   ]
  },
  {
   "cell_type": "markdown",
   "metadata": {},
   "source": [
    "And then, it will be made the [**_Observer's Effect_**](https://en.wikipedia.org/wiki/Observer_effect_(physics)) and the respectively [**_Measurement_**](https://en.wikipedia.org/wiki/Measurement_in_quantum_mechanics)... 🧐 🔎"
   ]
  },
  {
   "cell_type": "code",
   "execution_count": 8,
   "metadata": {},
   "outputs": [
    {
     "data": {
      "image/png": "[encoded data removed]",
      "text/plain": [
       "<Figure size 276.92x144.48 with 1 Axes>"
      ]
     },
     "execution_count": 8,
     "metadata": {},
     "output_type": "execute_result"
    }
   ],
   "source": [
    "black_mysterious_box.measure(quantum_cat_state[0], classical_cat_state[0])\n",
    "\n",
    "black_mysterious_box.draw()"
   ]
  },
  {
   "cell_type": "markdown",
   "metadata": {},
   "source": [
    "##### Caption/Notes:\n",
    "* **cat<sub>q</sub>**:\n",
    "\n",
    "> The [**_Quantum State_**](https://en.wikipedia.org/wiki/Quantum_state) of the [**_Schröndiger's Cat Experiment_**](https://en.wikipedia.org/wiki/Schr%C3%B6dinger%27s_cat), in [**_Quantum Superposition_**](https://en.wikipedia.org/wiki/Quantum_superposition), inside the **_Black/Mysterious Box_**, while the two possibilities are occurring simultaneously (i.e., the [**_Schröndiger's Cat_**](https://en.wikipedia.org/wiki/Schr%C3%B6dinger%27s_cat) being **_alive_** and **_dead_** at the same time);\n",
    "\n",
    "* ***cat<sub>c</sub>***:\n",
    "\n",
    "> The **_Classical State_** of the [**_Schröndiger's Cat Experiment_**](https://en.wikipedia.org/wiki/Schr%C3%B6dinger%27s_cat), after opening the **_Black/Mysterious Box_**, performing the [**_Observer's Effect_**](https://en.wikipedia.org/wiki/Observer_effect_(physics)) and the respectively [**_Measurement_**](https://en.wikipedia.org/wiki/Measurement_in_quantum_mechanics);"
   ]
  },
  {
   "cell_type": "markdown",
   "metadata": {},
   "source": [
    "At last, the job associated to this experiment will be executed in a [**_Quantum Computer_**](https://en.wikipedia.org/wiki/Quantum_computing) will be executed and its result be counted _1000_ times, in order to obtain a distribution of the probabilities for the experiment..."
   ]
  },
  {
   "cell_type": "code",
   "execution_count": 9,
   "metadata": {},
   "outputs": [],
   "source": [
    "job = execute(black_mysterious_box, backend, shots = 1000)\n",
    "result = job.result()"
   ]
  },
  {
   "cell_type": "markdown",
   "metadata": {},
   "source": [
    "#### Interpreting the results from the experiment\n",
    "Now, since the experiment it's finally over **_we can interpret its results_**, **_analysing the distribution of probabilites for the experiment and its respectively histogram's plot_**..."
   ]
  },
  {
   "cell_type": "code",
   "execution_count": 10,
   "metadata": {},
   "outputs": [
    {
     "name": "stdout",
     "output_type": "stream",
     "text": [
      "Data Results from the Schrödinger's Cat Experiment:\n",
      "- Dead (State 0): 492;\n",
      "- Alive (State 1): 508;\n"
     ]
    },
    {
     "data": {
      "image/png": "[encoded data removed]",
      "text/plain": [
       "<Figure size 504x360 with 1 Axes>"
      ]
     },
     "execution_count": 10,
     "metadata": {},
     "output_type": "execute_result"
    }
   ],
   "source": [
    "schrodinger_cat_experiment_data = result.get_counts(black_mysterious_box)\n",
    "\n",
    "result_counts = result.get_counts(black_mysterious_box)\n",
    "\n",
    "print('Data Results from the Schrödinger\\'s Cat Experiment:')\n",
    "print('- Dead (State 0): ' + str(result_counts['0']) + ';')\n",
    "print('- Alive (State 1): ' + str(result_counts['1']) + ';')\n",
    "\n",
    "schrodinger_cat_experiment_legend = ['Possible States of \\nthe Schrödinger\\'s Cat,\\nafter opening the\\nBlack/Mysterious Box\\n(Alive/State 1 and Dead/State 0)']\n",
    "schrodinger_cat_experiment_title = 'The Schröndiger\\'s Cat Experiment - Histogram'\n",
    "schrodinger_cat_experiment = plot_histogram({'Dead (State 0)' : result_counts['0'], 'Alive (State 1)' : result_counts['1']}, legend=schrodinger_cat_experiment_legend, color='Orange', title=schrodinger_cat_experiment_title)\n",
    "\n",
    "axis = schrodinger_cat_experiment.axes[0]\n",
    "axis.set_ylim(0, 1)\n",
    "\n",
    "schrodinger_cat_experiment.savefig('schrodinger_cat_experiment_simple.png')\n",
    "\n",
    "schrodinger_cat_experiment"
   ]
  },
  {
   "cell_type": "markdown",
   "metadata": {},
   "source": [
    "In this case, it seems the [**_Schröndiger's Cat_**](https://en.wikipedia.org/wiki/Schr%C3%B6dinger%27s_cat) is lucky and it's probable that it will continue to live for the rest of its life!!! 😺 🎉\n",
    "\n",
    "![imgs/ruben-cat-love-1.png](imgs/ruben-cat-love-1.png)\n",
    "\n",
    "Thank you, I hope you enjoy it!!!\n",
    "\n",
    "See you again in the next lesson...\n",
    "\n",
    "Sincerely, **_Rúben André Barreiro_**."
   ]
  }
 ],
 "metadata": {
  "kernelspec": {
   "display_name": "Python 3",
   "language": "python",
   "name": "python3"
  },
  "language_info": {
   "codemirror_mode": {
    "name": "ipython",
    "version": 3
   },
   "file_extension": ".py",
   "mimetype": "text/x-python",
   "name": "python",
   "nbconvert_exporter": "python",
   "pygments_lexer": "ipython3",
   "version": "3.7.1"
  }
 },
 "nbformat": 4,
 "nbformat_minor": 2
}
