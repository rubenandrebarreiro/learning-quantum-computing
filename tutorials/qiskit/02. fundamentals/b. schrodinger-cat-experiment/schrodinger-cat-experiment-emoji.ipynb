{
 "cells": [
  {
   "cell_type": "code",
   "execution_count": 1,
   "metadata": {},
   "outputs": [],
   "source": [
    "# Quantum Computing, using QisKit\n",
    "\n",
    "# QisKit Tutorials\n",
    "\n",
    "# Author:\n",
    "# - Ruben Andre Barreiro\n",
    "\n",
    "# MSc. of Computer Science and Engineering\n",
    "\n",
    "# Department of Informatics\n",
    "\n",
    "# Faculty of Sciences and Technology of\n",
    "# New University of Lisbon (FCT NOVA | FCT/UNL), Portugal"
   ]
  },
  {
   "cell_type": "code",
   "execution_count": 2,
   "metadata": {},
   "outputs": [],
   "source": [
    "# Chapter 2 - Fundamentals\n",
    "# Lesson b) Schrödinger's Cat Experience - Emoji\n",
    "\n",
    "# The basic elements needed for your first program are:\n",
    "# - Quantum Circuit\n",
    "# - Quantum Register"
   ]
  },
  {
   "cell_type": "code",
   "execution_count": 3,
   "metadata": {},
   "outputs": [
    {
     "name": "stdout",
     "output_type": "stream",
     "text": [
      "Found 1 credentials.\n",
      "No credentials available for updating could be found. No action will be performed.\n",
      "Warnings:\n",
      "The stored account with url \"https://auth.quantum-computing.ibm.com/api\" is already an IBM Q Experience v2 account.\n"
     ]
    }
   ],
   "source": [
    "# Import all libraries and tools from QisKit\n",
    "from qiskit import *\n",
    "from qiskit.providers.ibmq import least_busy\n",
    "from qiskit.tools.visualization import iplot_histogram\n",
    "\n",
    "from qiskit import IBMQ\n",
    "\n",
    "IBMQ.update_account()"
   ]
  },
  {
   "cell_type": "code",
   "execution_count": 13,
   "metadata": {},
   "outputs": [],
   "source": [
    "#my_provider = IBMQ.get_provider()\n",
    "\n",
    "my_provider = IBMQ.load_account()\n",
    "\n",
    "my_provider.backends()\n",
    "backend = my_provider.get_backend('ibmq_qasm_simulator')"
   ]
  },
  {
   "cell_type": "code",
   "execution_count": 14,
   "metadata": {},
   "outputs": [
    {
     "name": "stdout",
     "output_type": "stream",
     "text": [
      "We'll use the least busy device:  ibmq_qasm_simulator\n"
     ]
    }
   ],
   "source": [
    "# Use as backend the least busy IBM Q' Experience's Provider\n",
    "#backend = least_busy(IBMQ.backends(simulator = False))\n",
    "\n",
    "# Print the name of the backend representing\n",
    "# the least busy IBM Q Experience's Provider\n",
    "print(\"We'll use the least busy device: \", backend.name())"
   ]
  },
  {
   "cell_type": "markdown",
   "metadata": {},
   "source": [
    "__________________\n",
    "| a | b  | c       |\n",
    "-------------------"
   ]
  },
  {
   "cell_type": "code",
   "execution_count": null,
   "metadata": {},
   "outputs": [],
   "source": [
    "# set up registers and program\n",
    "#qr = qp.create_quantum_register('qr', 16)\n",
    "#cr = qp.create_classical_register('cr', 16)\n",
    "#qc = qp.create_circuit('smiley_writer', [qr], [cr])\n",
    "\n",
    "#11011000 00111101  11011100 00110001 \n",
    "\n",
    "#11011000 00111101  11011100 10000000\n",
    "\n",
    "# Create a Quantum Register with 32 qubits,\n",
    "# with the name of 'quantum_cat_state'\n",
    "quantum_cat_state = QuantumRegister(32, 'quantum_cat_state')\n",
    "\n",
    "# Create a Classical Register with 32 bits,\n",
    "# with the name of 'my_classical_register'\n",
    "classical_cat_state = ClassicalRegister(32, 'classical_cat_state')\n",
    "\n",
    "# Create a program for a Quantum Circuit from\n",
    "# a Quantum Register and a Classical Register\n",
    "mysterious_black_box = QuantumCircuit(quantum_cat_state, classical_cat_state)"
   ]
  },
  {
   "cell_type": "code",
   "execution_count": null,
   "metadata": {},
   "outputs": [],
   "source": [
    "mysterious_black_box.h(quantum_cat_state[0])\n",
    "\n",
    "mysterious_black_box.h(quantum_cat_state[5])\n",
    "mysterious_black_box.cx(quantum_cat_state[5], quantum_cat_state[4])\n",
    "\n",
    "mysterious_black_box.h(quantum_cat_state[7])\n",
    "\n",
    "\n",
    "mysterious_black_box.x(quantum_cat_state[10])\n",
    "mysterious_black_box.x(quantum_cat_state[11])\n",
    "mysterious_black_box.x(quantum_cat_state[12])\n",
    "mysterious_black_box.x(quantum_cat_state[14])\n",
    "mysterious_black_box.x(quantum_cat_state[15])\n",
    "\n",
    "mysterious_black_box.x(quantum_cat_state[16])\n",
    "mysterious_black_box.x(quantum_cat_state[18])\n",
    "mysterious_black_box.x(quantum_cat_state[19])\n",
    "mysterious_black_box.x(quantum_cat_state[20])\n",
    "mysterious_black_box.x(quantum_cat_state[21])\n",
    "\n",
    "mysterious_black_box.x(quantum_cat_state[27])\n",
    "mysterious_black_box.x(quantum_cat_state[28])\n",
    "mysterious_black_box.x(quantum_cat_state[30])\n",
    "mysterious_black_box.x(quantum_cat_state[31])"
   ]
  },
  {
   "cell_type": "code",
   "execution_count": null,
   "metadata": {},
   "outputs": [],
   "source": [
    "# measure\n",
    "for j in range(32):\n",
    "    mysterious_black_box.measure(quantum_cat_state[j], classical_cat_state[j])"
   ]
  },
  {
   "cell_type": "code",
   "execution_count": null,
   "metadata": {},
   "outputs": [],
   "source": [
    "# Create a Quantum Program for execution of the Quantum Circuit\n",
    "job = execute(mysterious_black_box, backend)"
   ]
  },
  {
   "cell_type": "code",
   "execution_count": null,
   "metadata": {},
   "outputs": [],
   "source": [
    "# run and get results\n",
    "results = execute([\"smiley_writer\"], backend='ibmqx5', shots=1024, silent=False)\n",
    "stats = results.get_counts(\"smiley_writer\")\n",
    "\n",
    "# Calculate/Compute the counts of the execution of the program\n",
    "counts = job.result().get_counts(quantum_circuit)\n",
    "\n",
    "# Show the Plot Histogram of\n",
    "# the counts of the execution of the program\n",
    "iplot_histogram(counts)\n",
    "\n",
    "# And then print some random staff\n",
    "print(\"Hello Quantum World!!!\")\n",
    "print(\"I've just made a Quantum Entanglement!!!\")"
   ]
  },
  {
   "cell_type": "code",
   "execution_count": null,
   "metadata": {},
   "outputs": [],
   "source": []
  }
 ],
 "metadata": {
  "kernelspec": {
   "display_name": "Python 3",
   "language": "python",
   "name": "python3"
  },
  "language_info": {
   "codemirror_mode": {
    "name": "ipython",
    "version": 3
   },
   "file_extension": ".py",
   "mimetype": "text/x-python",
   "name": "python",
   "nbconvert_exporter": "python",
   "pygments_lexer": "ipython3",
   "version": "3.7.1"
  }
 },
 "nbformat": 4,
 "nbformat_minor": 2
}
