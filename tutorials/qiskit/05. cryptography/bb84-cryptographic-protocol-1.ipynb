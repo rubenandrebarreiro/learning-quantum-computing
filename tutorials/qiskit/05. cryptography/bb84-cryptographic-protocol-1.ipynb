{
 "cells": [
  {
   "cell_type": "markdown",
   "metadata": {},
   "source": [
    "# Learning Quantum Computing\n",
    "\n",
    "![../../../imgs/banner-1.jpg](../../../imgs/banner-1.jpg)\n",
    "\n",
    "## IBM Q Experience/Qiskit Tutorials\n",
    "\n",
    "![../../imgs/qiskit-logo-banner.png](../../imgs/qiskit-logo-banner.png)\n",
    "\n",
    "### BB84 Cryptographic Protocol #1 (Quantum Cryptography and Quantum Key Distribution Tutorial)\n",
    "![imgs/ruben-key-1.png](imgs/ruben-key-1.png)"
   ]
  },
  {
   "cell_type": "markdown",
   "metadata": {},
   "source": [
    "Here, it will be shown a possible implementation of the [**_BB84 Cryptographic Protocol_**](https://en.wikipedia.org/wiki/BB84), using the [**_IBM Q Experience_**](https://www.research.ibm.com/ibm-q/technology/experience/) and the [**_Qiskit_**](https://qiskit.org/) _framework_ and its tools!!! ⚛️ 💥 ⚙️"
   ]
  },
  {
   "cell_type": "markdown",
   "metadata": {},
   "source": [
    "This tutorial will reproduce a [**_Quantum Key Distribution_**](https://en.wikipedia.org/wiki/Quantum_key_distribution) and an [**_eavesdropper_**](https://en.wikipedia.org/wiki/Eavesdropping) or [**_MITM (Man-in-the-Middle) attack_**](https://en.wikipedia.org/wiki/Man-in-the-middle_attack) detection. 🔑 🕵️‍♂️ 👿"
   ]
  },
  {
   "cell_type": "markdown",
   "metadata": {},
   "source": [
    "#### Understading the BB84 Protocol - Quantum Key Distribution\n",
    "\n",
    "##### Brief History\n",
    "\n",
    "* In 1984, building on the work of [**_Stephen Wiesner_**](https://en.wikipedia.org/wiki/Stephen_Wiesner), [**_Charles Bennett_**](https://researcher.watson.ibm.com/researcher/view.php?person=us-bennetc), an [**_IBM_**](https://www.ibm.com/)'s researcher, and [**_Gilles Brassard_**](http://www.iro.umontreal.ca/~brassard/web/), of the [**_Université de Montréal_**](https://www.umontreal.ca/), developed the first [**_Quantum Cryptographic Protocol_**](https://en.wikipedia.org/wiki/List_of_quantum_key_distribution_protocols), which goes under the codename of [**_BB84 (Bennet-Brassard-84)_**](https://en.wikipedia.org/wiki/BB84).\n",
    "\n",
    "<br>\n",
    "\n",
    "##### How it works?\n",
    "\n",
    "* Suppose that **_me and my soulmate are completely and deeply in love with each other_**, and so, have both the need of **_communicate with each other privately_**, in order to **_write love letters to each other_**, **_in secret_**. Suppose also that, me and my soulmate will be represented as some kind of endpoints or entities called, respectively, **_Rúben_** and **_Rúben's Lover_**. And the **_love letters exchange between them will be represented as some kind of secret messages_**.\n",
    "\n",
    "\n",
    "* Suppose that **_Rúben_** and **_Rúben's Lover_** are connected via a [**_Quantum Communication Channel_**](https://en.wikipedia.org/wiki/Quantum_channel) that they can use to exchange [**_qubits_**](https://en.wikipedia.org/wiki/Qubit). This channel _isn't used directly to send a private message_, _but only to exchange random_ [**_qubits_**](https://en.wikipedia.org/wiki/Qubit) _that after processing will compose the_ [**_encryption key_**](https://en.wikipedia.org/wiki/Key_(cryptography)).\n",
    "\n",
    "\n",
    "* If the key sharing is completed successfully, this key can be used in the well known way as an [**_One-Time Pad (OTP)_**](https://en.wikipedia.org/wiki/One-time_pad) to _produce a safely encrypted message_ to be delivered over a [**_Classical Communication Channel_**](https://en.wikipedia.org/wiki/Communication_channel) using [**_Symmetrical Cryptography_**](https://en.wikipedia.org/wiki/Symmetric-key_algorithm) (e.g., [**_Twofish_**](https://en.wikipedia.org/wiki/Twofish), [**_Serpent_**](https://en.wikipedia.org/wiki/Serpent_(cipher)), [**_AES (Advanced Encryption Standard - Rijndael)_**](https://en.wikipedia.org/wiki/Advanced_Encryption_Standard), [**_Blowfish_**](https://en.wikipedia.org/wiki/Blowfish_(cipher)), [**_DES (Data Encryption Standard)_**](https://en.wikipedia.org/wiki/Data_Encryption_Standard), [**_3DES (Triple DES - Triple Data Encryption Standard)_**](https://en.wikipedia.org/wiki/Triple_DES), among many others). The [**_secret key_**](https://en.wikipedia.org/wiki/Key_(cryptography)) should be _completely random_, as long as the message, and _discarded after use_. Keep also in mind that, _the procedure can be repeated for every message that needs to be delivered_.\n",
    "\n",
    "<br>\n",
    "\n",
    "##### Exchanging the secret keys\n",
    "\n",
    "* More specifically, **_Rúben_** produces an [**_initial secret key_**](https://en.wikipedia.org/wiki/Key_(cryptography)), selecting a sequence of [**_random bits_**](https://en.wikipedia.org/wiki/Bit), '$0$' and '$1$', and picking a sequence of [**_polarization eigenstates_**](https://en.wikipedia.org/wiki/Quantum_state#Pure_states), with respect to a randomly chosen basis between the _two following possibilities_:\n",
    "    \n",
    "> i. **_Rectilinear_** $\\{\\lvert 0 \\rangle,\\  \\lvert 1 \\rangle \\}$:  \n",
    ">    * i.e., '$0$' for the **_off_** or **_ground_** state and '$1$' for the **_on_** or **_excited_** state;\n",
    "    \n",
    "* or even,\n",
    "    \n",
    "> ii. **_Diagonal_** $\\{\\lvert \\nearrow \\rangle,\\  \\lvert \\searrow \\rangle\\}$:\n",
    ">    * i.e., some kind of [**_Quantum Superposition_**](https://en.wikipedia.org/wiki/Quantum_superposition) state;\n",
    "\n",
    "\n",
    "* **_Rúben_** encodes the [**_classical bits_**](https://en.wikipedia.org/wiki/Bit) of the [**_secret key_**](https://en.wikipedia.org/wiki/Key_(cryptography)) one by one in a [**_qubit_**](https://en.wikipedia.org/wiki/Qubit), by preparing each [**_qubit_**](https://en.wikipedia.org/wiki/Qubit) in an [**_eigenstate_**](https://en.wikipedia.org/wiki/Quantum_state#Pure_states) of the basis chosen, so that only by measuring the [**_qubits_**](https://en.wikipedia.org/wiki/Qubit) in the **_right basis_** one can retrieve with **_certainty_** the right [**_classical bit_**](https://en.wikipedia.org/wiki/Bit), just as it happens with [**_Quantum Money_**](https://en.wikipedia.org/wiki/Quantum_money). In the meantime **_Rúben_** keeps a note (in a **_report table_**) of the basis that he has picked for every single [**_qubit_**](https://en.wikipedia.org/wiki/Qubit) he has encoded.\n",
    "\n",
    "\n",
    "* Now, using the [**_Quantum Communication Channel_**](https://en.wikipedia.org/wiki/Quantum_channel), _**Rúben** sends the stream of_ [**_qubits_**](https://en.wikipedia.org/wiki/Qubit) _to his lover (**Rúben's Lover**)_, who is **_unaware_** of the basis used by **_Rúben_** for the encoding. **_Rúben's Lover_** receives these [**_qubits_**](https://en.wikipedia.org/wiki/Qubit) prepared in a certain [**_polarization eigenstate_**](https://en.wikipedia.org/wiki/Quantum_state#Pure_states) but, due to the **no-cloning theorem** (i.e., the [**_qubits_**](https://en.wikipedia.org/wiki/Qubit) _can't be cloned_), she is unable to recognize which basis **_Rúben_** used, because she cannot distinguish **_non-orthogonal_** states (i.e., [**_Quantum Superposition_**](https://en.wikipedia.org/wiki/Quantum_superposition) states) with a single [**_measurement_**](https://en.wikipedia.org/wiki/Measurement_in_quantum_mechanics). Nonetheless she proceeds anyway with [**_measuring_**](https://en.wikipedia.org/wiki/Measurement_in_quantum_mechanics) _each_ [**_photon's polarization_**](https://en.wikipedia.org/wiki/Photon_polarization) _using a basis chosen randomly_ (between **_rectilinear_**, $\\{\\lvert 0 \\rangle,\\  \\lvert 1 \\rangle \\}$, i.e., **_orthogonal_** or **_classical_** states, and **_diagonal_**, $\\{\\lvert \\nearrow \\rangle,\\  \\lvert \\searrow \\rangle\\}$, i.e. **_non-orthogonal_** or [**_Quantum Superposition_**](https://en.wikipedia.org/wiki/Quantum_superposition) states), and she keeps a note of the [**_measurement_**](https://en.wikipedia.org/wiki/Measurement_in_quantum_mechanics) result and the associated basis that she used in a **_report table_**. \n",
    "\n",
    "\n",
    "* Statistically, **_Rúben's Lover_** will pick the **_right basis_**, the same that **_Rúben_** picked, about $\\frac{1}{2}$ of the times, and the **_wrong basis_** about $\\frac{1}{2}$ of the times. When she [**_measures_**](https://en.wikipedia.org/wiki/Measurement_in_quantum_mechanics) using the **_right basis_**, she correctly retrieves the information bit of the [**_secret key_**](https://en.wikipedia.org/wiki/Key_(cryptography)), but when she picks the **_wrong basis_**, the information bit isn't certain, since with respect to this basis, the [**_qubit_**](https://en.wikipedia.org/wiki/Qubit) is in a [**_Quantum Superposition_**](https://en.wikipedia.org/wiki/Quantum_superposition) of the [**_eigenstates_**](https://en.wikipedia.org/wiki/Quantum_state#Pure_states) of the **_right bases_**, and it can _collapse in either two of them with equal probability_ of $\\frac{1}{2}$.\n",
    "\n",
    "\n",
    "* For this reason, **_Rúben_** and **_Rúben's Lover_** decide to **_sift_** their [**_secret key_**](https://en.wikipedia.org/wiki/Key_(cryptography)), which in practical terms means that they discard from the [**_secret key_**](https://en.wikipedia.org/wiki/Key_(cryptography)) all the bits obtained via [**_measurements_**](https://en.wikipedia.org/wiki/Measurement_in_quantum_mechanics) made in the **_wrong basis_**, since they aren't reliable:\n",
    "    > _The price for this action is that the_ [**_secret key_**](https://en.wikipedia.org/wiki/Key_(cryptography)) _will lose about_ $\\frac{1}{2}$ _of its length_, _but the payoff is that they don't need to unveil their_ [**_measurements_**](https://en.wikipedia.org/wiki/Measurement_in_quantum_mechanics), _they just need to compare their_ **_report tables_**, _where they recorded the basis chosen_, _and they do that_ **_after_** _the_ [**_measurement_**](https://en.wikipedia.org/wiki/Measurement_in_quantum_mechanics) _has occurred_.\n",
    "\n",
    "\n",
    "* So they open the [**_Classical Communication Channel_**](https://en.wikipedia.org/wiki/Communication_channel) and only now **_Rúben_** tells (publicly) **_Rúben's Lover_** which basis he used to encode the [**_secret key_**](https://en.wikipedia.org/wiki/Key_(cryptography)). They **_compare_** the **_report tables_** and discard the [**_bits_**](https://en.wikipedia.org/wiki/Bit) obtained measuring [**_qubits_**](https://en.wikipedia.org/wiki/Qubit) in different basis. What they obtain is a perfectly correlate **_sifted key_**, the same for both of them, ready for use. This [**_secret key_**](https://en.wikipedia.org/wiki/Key_(cryptography)) can be employed as a [**_One-Time Pad (OTP)_**](https://en.wikipedia.org/wiki/One-time_pad) and once is used up completely, _the procedure can be repeated again to produce a new random_ [**_secret key_**](https://en.wikipedia.org/wiki/Key_(cryptography)), as mentioned before.\n",
    "\n",
    "<br>\n",
    "\n",
    "##### And if there's a third entity with bad and malicious intentions?!\n",
    "\n",
    "* What happens if we now introduce an [**_eavesdropper_**](https://en.wikipedia.org/wiki/Eavesdropping) or [**_MITM (Man-in-the-Middle) attacker_**](https://en.wikipedia.org/wiki/Man-in-the-middle_attack) in the [**_Communication Channel_**](https://en.wikipedia.org/wiki/Communication_channel)?!\n",
    "\n",
    "\n",
    "* Imagine there's a third endpoint or entity involved in this whole love story. Suppose this entity is called José Legatheaux. José Legatheaux is a very bad and malicious person, who are very jealous and envy of the deep love story between Rúben and his lover. So, Jose Legatheaux wants to ruin the love relationship between this two little lovebirds, doing some kind of sabotage on the secret love letters exchanged between them.\n",
    "\n",
    "\n",
    "* Suppose that **_José Legatheaux_** is able to intercept the qubits that **_Rúben_** sends to **_Rúben's Lover_**, and that he can also tap the **_Classical Communication Channel_**. When he gets hold of the qubits he still doesn't know which basis **_Rúben_** used, just like **_Rúben's Lover_**. He is forced to make a guess, and he will pick the **_wrong basis_** $\\frac{1}{2}$ of the times. If he measures in the **_wrong basis_** he has $\\frac{1}{2}$ probability to make the qubit collapse in the wrong eigenstate, so that on the whole he will have altered about $\\frac{1}{4}$ of the original qubits. This is the main difference with classical cryptography:\n",
    "    > **_Thanks to_** [**_Quantum Physics/Mechanics_**](https://en.wikipedia.org/wiki/Quantum_mechanics)**_'s_** [**_Observer's Effect_**](https://en.wikipedia.org/wiki/Observer_effect_(physics))**_, which implies_** [**_measuring_**](https://en.wikipedia.org/wiki/Measurement_in_quantum_mechanics)**_, and if this isn't done accordingly, it changes the actual state_** ([**_secret key_**](https://en.wikipedia.org/wiki/Key_(cryptography)))**_!!!_**\n",
    "\n",
    "\n",
    "* *José Legatheaux* produces a **candidate key** and passes on these (now altered) qubits to Rúben's Lover who proceeds himself with her measurements. *Rúben's Lover* constructs her table list of random basis and also obtains his candidate secret key, which will of course be different from *José Legatheaux*'s. When* Rúben* broadcasts his basis table on the classical channel and *Rúben's Lover* sift his  key accordingly, he will obtain a key different from *Rúben*'s, unusable, since even in the same basis choice qubits will be different about $\\frac{1}{4}$ of the times. If *Rúben* try to encrypt a message, symmetrical cryptography would fail and both *Rúben* and *Rúben's Lover* will know that communication has been compromised. \n",
    "\n",
    "\n",
    "* If *Rúben* and *Rúben's Lover* never compare their measurement and they only compare basis tables they have no way of knowing that the state has been altered, until the encrypted message is produced, sent and decryption fails. However they can decide to initiate **secret key sharing** by also comparing their measurement on a certain number of qubits, and, only when they are convinced that the channel is free of interference, they proceed with the actual key sharing. Of course the part of the key that represents the unveiled measurement has to be discarded from it. In real world application is comprises about $\\frac{1}{3}$ of the whole key.\n",
    "\n",
    "***\n",
    "\n",
    "Here, will be demonstrated exactly this behavior, how initial secret key sharing can be used to detect an [**_eavesdropper_**](https://en.wikipedia.org/wiki/Eavesdropping) or [**_MITM (Man-in-the-Middle) attack_**](https://en.wikipedia.org/wiki/Man-in-the-middle_attack).\n",
    "\n",
    "***"
   ]
  },
  {
   "cell_type": "code",
   "execution_count": null,
   "metadata": {},
   "outputs": [],
   "source": []
  }
 ],
 "metadata": {
  "kernelspec": {
   "display_name": "Python 3",
   "language": "python",
   "name": "python3"
  },
  "language_info": {
   "codemirror_mode": {
    "name": "ipython",
    "version": 3
   },
   "file_extension": ".py",
   "mimetype": "text/x-python",
   "name": "python",
   "nbconvert_exporter": "python",
   "pygments_lexer": "ipython3",
   "version": "3.7.1"
  }
 },
 "nbformat": 4,
 "nbformat_minor": 2
}
